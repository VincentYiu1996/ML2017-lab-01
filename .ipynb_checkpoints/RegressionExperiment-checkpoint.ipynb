{
 "cells": [
  {
   "cell_type": "code",
   "execution_count": 2,
   "metadata": {
    "collapsed": false
   },
   "outputs": [],
   "source": []
  },
  {
   "cell_type": "code",
   "execution_count": 1,
   "metadata": {
    "collapsed": false
   },
   "outputs": [
    {
     "ename": "FileNotFoundError",
     "evalue": "[Errno 2] No such file or directory: 'housing_scale.txt'",
     "output_type": "error",
     "traceback": [
      "\u001b[0;31m---------------------------------------------------------------------------\u001b[0m",
      "\u001b[0;31mFileNotFoundError\u001b[0m                         Traceback (most recent call last)",
      "\u001b[0;32m<ipython-input-1-83211c2ca42e>\u001b[0m in \u001b[0;36m<module>\u001b[0;34m()\u001b[0m\n\u001b[1;32m      6\u001b[0m \u001b[0;34m\u001b[0m\u001b[0m\n\u001b[1;32m      7\u001b[0m \u001b[0;34m\u001b[0m\u001b[0m\n\u001b[0;32m----> 8\u001b[0;31m \u001b[0mX\u001b[0m\u001b[0;34m,\u001b[0m\u001b[0mY\u001b[0m \u001b[0;34m=\u001b[0m \u001b[0mload_svmlight_file\u001b[0m\u001b[0;34m(\u001b[0m\u001b[0;34m\"housing_scale.txt\"\u001b[0m\u001b[0;34m)\u001b[0m\u001b[0;34m\u001b[0m\u001b[0m\n\u001b[0m\u001b[1;32m      9\u001b[0m \u001b[0;34m\u001b[0m\u001b[0m\n\u001b[1;32m     10\u001b[0m \u001b[0;31m# x add column\u001b[0m\u001b[0;34m\u001b[0m\u001b[0;34m\u001b[0m\u001b[0m\n",
      "\u001b[0;32m/usr/local/anaconda3/lib/python3.5/site-packages/sklearn/datasets/svmlight_format.py\u001b[0m in \u001b[0;36mload_svmlight_file\u001b[0;34m(f, n_features, dtype, multilabel, zero_based, query_id, offset, length)\u001b[0m\n\u001b[1;32m    145\u001b[0m     \"\"\"\n\u001b[1;32m    146\u001b[0m     return tuple(load_svmlight_files([f], n_features, dtype, multilabel,\n\u001b[0;32m--> 147\u001b[0;31m                                      zero_based, query_id, offset, length))\n\u001b[0m\u001b[1;32m    148\u001b[0m \u001b[0;34m\u001b[0m\u001b[0m\n\u001b[1;32m    149\u001b[0m \u001b[0;34m\u001b[0m\u001b[0m\n",
      "\u001b[0;32m/usr/local/anaconda3/lib/python3.5/site-packages/sklearn/datasets/svmlight_format.py\u001b[0m in \u001b[0;36mload_svmlight_files\u001b[0;34m(files, n_features, dtype, multilabel, zero_based, query_id, offset, length)\u001b[0m\n\u001b[1;32m    288\u001b[0m     r = [_open_and_load(f, dtype, multilabel, bool(zero_based), bool(query_id),\n\u001b[1;32m    289\u001b[0m                         offset=offset, length=length)\n\u001b[0;32m--> 290\u001b[0;31m          for f in files]\n\u001b[0m\u001b[1;32m    291\u001b[0m \u001b[0;34m\u001b[0m\u001b[0m\n\u001b[1;32m    292\u001b[0m     if (zero_based is False or\n",
      "\u001b[0;32m/usr/local/anaconda3/lib/python3.5/site-packages/sklearn/datasets/svmlight_format.py\u001b[0m in \u001b[0;36m<listcomp>\u001b[0;34m(.0)\u001b[0m\n\u001b[1;32m    288\u001b[0m     r = [_open_and_load(f, dtype, multilabel, bool(zero_based), bool(query_id),\n\u001b[1;32m    289\u001b[0m                         offset=offset, length=length)\n\u001b[0;32m--> 290\u001b[0;31m          for f in files]\n\u001b[0m\u001b[1;32m    291\u001b[0m \u001b[0;34m\u001b[0m\u001b[0m\n\u001b[1;32m    292\u001b[0m     if (zero_based is False or\n",
      "\u001b[0;32m/usr/local/anaconda3/lib/python3.5/site-packages/sklearn/datasets/svmlight_format.py\u001b[0m in \u001b[0;36m_open_and_load\u001b[0;34m(f, dtype, multilabel, zero_based, query_id, offset, length)\u001b[0m\n\u001b[1;32m    173\u001b[0m     \u001b[0;31m# XXX remove closing when Python 2.7+/3.1+ required\u001b[0m\u001b[0;34m\u001b[0m\u001b[0;34m\u001b[0m\u001b[0m\n\u001b[1;32m    174\u001b[0m     \u001b[0;32melse\u001b[0m\u001b[0;34m:\u001b[0m\u001b[0;34m\u001b[0m\u001b[0m\n\u001b[0;32m--> 175\u001b[0;31m         \u001b[0;32mwith\u001b[0m \u001b[0mclosing\u001b[0m\u001b[0;34m(\u001b[0m\u001b[0m_gen_open\u001b[0m\u001b[0;34m(\u001b[0m\u001b[0mf\u001b[0m\u001b[0;34m)\u001b[0m\u001b[0;34m)\u001b[0m \u001b[0;32mas\u001b[0m \u001b[0mf\u001b[0m\u001b[0;34m:\u001b[0m\u001b[0;34m\u001b[0m\u001b[0m\n\u001b[0m\u001b[1;32m    176\u001b[0m             \u001b[0mactual_dtype\u001b[0m\u001b[0;34m,\u001b[0m \u001b[0mdata\u001b[0m\u001b[0;34m,\u001b[0m \u001b[0mind\u001b[0m\u001b[0;34m,\u001b[0m \u001b[0mindptr\u001b[0m\u001b[0;34m,\u001b[0m \u001b[0mlabels\u001b[0m\u001b[0;34m,\u001b[0m \u001b[0mquery\u001b[0m \u001b[0;34m=\u001b[0m\u001b[0;31m \u001b[0m\u001b[0;31m\\\u001b[0m\u001b[0;34m\u001b[0m\u001b[0m\n\u001b[1;32m    177\u001b[0m                 _load_svmlight_file(f, dtype, multilabel, zero_based, query_id,\n",
      "\u001b[0;32m/usr/local/anaconda3/lib/python3.5/site-packages/sklearn/datasets/svmlight_format.py\u001b[0m in \u001b[0;36m_gen_open\u001b[0;34m(f)\u001b[0m\n\u001b[1;32m    162\u001b[0m         \u001b[0;32mreturn\u001b[0m \u001b[0mBZ2File\u001b[0m\u001b[0;34m(\u001b[0m\u001b[0mf\u001b[0m\u001b[0;34m,\u001b[0m \u001b[0;34m\"rb\"\u001b[0m\u001b[0;34m)\u001b[0m\u001b[0;34m\u001b[0m\u001b[0m\n\u001b[1;32m    163\u001b[0m     \u001b[0;32melse\u001b[0m\u001b[0;34m:\u001b[0m\u001b[0;34m\u001b[0m\u001b[0m\n\u001b[0;32m--> 164\u001b[0;31m         \u001b[0;32mreturn\u001b[0m \u001b[0mopen\u001b[0m\u001b[0;34m(\u001b[0m\u001b[0mf\u001b[0m\u001b[0;34m,\u001b[0m \u001b[0;34m\"rb\"\u001b[0m\u001b[0;34m)\u001b[0m\u001b[0;34m\u001b[0m\u001b[0m\n\u001b[0m\u001b[1;32m    165\u001b[0m \u001b[0;34m\u001b[0m\u001b[0m\n\u001b[1;32m    166\u001b[0m \u001b[0;34m\u001b[0m\u001b[0m\n",
      "\u001b[0;31mFileNotFoundError\u001b[0m: [Errno 2] No such file or directory: 'housing_scale.txt'"
     ]
    }
   ],
   "source": [
    "from sklearn.datasets import load_svmlight_file\n",
    "from sklearn.model_selection import train_test_split\n",
    "import numpy as np\n",
    "import matplotlib.pyplot as plt\n",
    "%matplotlib inline\n",
    "\n",
    "\n",
    "X,Y = load_svmlight_file(\"housing_scale.txt\")\n",
    "\n",
    "# x add column\n",
    "row=X.shape[0]\n",
    "B = np.mat(np.ones((X.shape[0],1)))\n",
    "X=np.mat(np.c_[X.A,B])\n",
    "\n",
    "x_train, x_test, y_train, y_test = train_test_split(X,Y, test_size=0.33, random_state=42)\n",
    "\n",
    "#参数初始化全零\n",
    "w=np.mat(np.zeros((14,1)))\n",
    "learning_rate=0.02\n",
    "#迭代次数\n",
    "num=100\n",
    "\n",
    "loss_train=[]\n",
    "loss_validation=[]\n",
    "\n",
    "#模型\n",
    "def score(w,x):\n",
    "    return x*w\n",
    "\n",
    "#loss函数\n",
    "def loss(x,y,w):\n",
    "    y=y.reshape(len(y),-1)\n",
    "    return 0.5*(y-x*w).T*(y-x*w)\n",
    "\n",
    "#求导\n",
    "def gradient(x,y,w):\n",
    "    y=y.reshape(len(y),-1)\n",
    "    return (-x.T*y+x.T*x*w)/x.shape[0]\n",
    "\n",
    "#梯度下降\n",
    "def gradient_descent(w):\n",
    "    temp_w=w-learning_rate*gradient(x_train,y_train,w)\n",
    "    return temp_w\n",
    "\n",
    "#优化\n",
    "def optimizer(w):\n",
    "    temp_w=w\n",
    "    for i in range(num):\n",
    "        temp_w=gradient_descent(temp_w)\n",
    "        loss_train.append(loss(x_train,y_train,temp_w)[0,0])\n",
    "        loss_validation.append(loss(x_test,y_test,temp_w)[0,0])\n",
    "    return  temp_w\n",
    "\n",
    "w=optimizer(w)\n",
    "\n",
    "n = np.arange(num)\n",
    "plt.plot(n,loss_train,label='loss_train')\n",
    "plt.plot(n,loss_validation,label='loss_validation')\n",
    "plt.legend(loc='upper right')\n",
    "plt.xlabel('time')\n",
    "plt.ylabel('loss')\n",
    "plt.title('Linear Regression')\n",
    "\n"
   ]
  },
  {
   "cell_type": "code",
   "execution_count": null,
   "metadata": {
    "collapsed": true
   },
   "outputs": [],
   "source": []
  }
 ],
 "metadata": {
  "anaconda-cloud": {},
  "kernelspec": {
   "display_name": "Python [default]",
   "language": "python",
   "name": "python3"
  },
  "language_info": {
   "codemirror_mode": {
    "name": "ipython",
    "version": 3
   },
   "file_extension": ".py",
   "mimetype": "text/x-python",
   "name": "python",
   "nbconvert_exporter": "python",
   "pygments_lexer": "ipython3",
   "version": "3.5.2"
  }
 },
 "nbformat": 4,
 "nbformat_minor": 1
}
