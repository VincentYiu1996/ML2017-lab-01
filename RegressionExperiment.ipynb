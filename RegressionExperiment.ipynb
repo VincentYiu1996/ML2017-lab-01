{
 "cells": [
  {
   "cell_type": "code",
   "execution_count": 2,
   "metadata": {
    "collapsed": false
   },
   "outputs": [],
   "source": []
  },
  {
   "cell_type": "code",
   "execution_count": 8,
   "metadata": {
    "collapsed": false
   },
   "outputs": [
    {
     "data": {
      "text/plain": [
       "Text(0.5,1,'Linear Regression')"
      ]
     },
     "execution_count": 8,
     "metadata": {},
     "output_type": "execute_result"
    },
    {
     "data": {
      "image/png": "[encoded data removed]",
      "text/plain": [
       "<matplotlib.figure.Figure at 0x7fa3d4b2bd30>"
      ]
     },
     "metadata": {},
     "output_type": "display_data"
    }
   ],
   "source": [
    "from sklearn.datasets import load_svmlight_file\n",
    "from sklearn.model_selection import train_test_split\n",
    "import numpy as np\n",
    "import matplotlib.pyplot as plt\n",
    "%matplotlib inline\n",
    "\n",
    "\n",
    "X,Y = load_svmlight_file(\"housing_scale.txt\")\n",
    "\n",
    "# x add column\n",
    "row=X.shape[0]\n",
    "B = np.mat(np.ones((X.shape[0],1)))\n",
    "X=np.mat(np.c_[X.A,B])\n",
    "\n",
    "x_train, x_test, y_train, y_test = train_test_split(X,Y, test_size=0.33, random_state=42)\n",
    "\n",
    "#参数初始化全零\n",
    "w=np.mat(np.zeros((14,1)))\n",
    "learning_rate=0.03\n",
    "#迭代次数\n",
    "num=100\n",
    "\n",
    "loss_train=[]\n",
    "loss_validation=[]\n",
    "\n",
    "#模型\n",
    "def score(w,x):\n",
    "    return x*w\n",
    "\n",
    "#loss函数\n",
    "def loss(x,y,w):\n",
    "    y=y.reshape(len(y),-1)\n",
    "    return 0.5*(y-x*w).T*(y-x*w)/x.shape[0]\n",
    "\n",
    "#求导\n",
    "def gradient(x,y,w):\n",
    "    y=y.reshape(len(y),-1)\n",
    "    return (-x.T*y+x.T*x*w)/x.shape[0]\n",
    "\n",
    "#梯度下降\n",
    "def gradient_descent(w):\n",
    "    temp_w=w-learning_rate*gradient(x_train,y_train,w)\n",
    "    return temp_w\n",
    "\n",
    "#优化\n",
    "def optimizer(w):\n",
    "    temp_w=w\n",
    "    for i in range(num):\n",
    "        temp_w=gradient_descent(temp_w)\n",
    "        loss_train.append(loss(x_train,y_train,temp_w)[0,0])\n",
    "        loss_validation.append(loss(x_test,y_test,temp_w)[0,0])\n",
    "    return  temp_w\n",
    "\n",
    "w=optimizer(w)\n",
    "\n",
    "n = np.arange(num)\n",
    "plt.plot(n,loss_train,label='loss_train')\n",
    "plt.plot(n,loss_validation,label='loss_validation')\n",
    "plt.legend(loc='upper right')\n",
    "plt.xlabel('time')\n",
    "plt.ylabel('loss')\n",
    "plt.title('Linear Regression')\n",
    "\n"
   ]
  },
  {
   "cell_type": "code",
   "execution_count": null,
   "metadata": {
    "collapsed": true
   },
   "outputs": [],
   "source": []
  }
 ],
 "metadata": {
  "anaconda-cloud": {},
  "kernelspec": {
   "display_name": "Python [default]",
   "language": "python",
   "name": "python3"
  },
  "language_info": {
   "codemirror_mode": {
    "name": "ipython",
    "version": 3
   },
   "file_extension": ".py",
   "mimetype": "text/x-python",
   "name": "python",
   "nbconvert_exporter": "python",
   "pygments_lexer": "ipython3",
   "version": "3.5.2"
  }
 },
 "nbformat": 4,
 "nbformat_minor": 1
}
