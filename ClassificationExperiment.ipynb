{
 "cells": [
  {
   "cell_type": "code",
   "execution_count": 2,
   "metadata": {
    "collapsed": true
   },
   "outputs": [],
   "source": []
  },
  {
   "cell_type": "code",
   "execution_count": 8,
   "metadata": {
    "collapsed": false
   },
   "outputs": [
    {
     "name": "stdout",
     "output_type": "stream",
     "text": [
      "0.8593073593073594\n",
      "0.8508771929824561\n"
     ]
    },
    {
     "data": {
      "text/plain": [
       "Text(0.5,1,'Linear Classification')"
      ]
     },
     "execution_count": 8,
     "metadata": {},
     "output_type": "execute_result"
    },
    {
     "data": {
      "image/png": "[encoded data removed]",
      "text/plain": [
       "<matplotlib.figure.Figure at 0x7fb20b7d60b8>"
      ]
     },
     "metadata": {},
     "output_type": "display_data"
    }
   ],
   "source": [
    "from sklearn.datasets import load_svmlight_file\n",
    "from sklearn.model_selection import train_test_split\n",
    "import numpy as np\n",
    "import numpy.linalg as nl\n",
    "import matplotlib.pyplot as plt\n",
    "%matplotlib inline\n",
    "\n",
    "X,Y = load_svmlight_file(\"australian_scale.txt\")\n",
    "\n",
    "row=X.shape[0]\n",
    "B = np.mat(np.ones((X.shape[0],1)))\n",
    "X=np.mat(np.c_[X.A,B])\n",
    "Y=Y.reshape(len(Y),-1)\n",
    "\n",
    "x_train, x_test, y_train, y_test = train_test_split(X,Y, test_size=0.33, random_state=42)\n",
    "\n",
    "#初始化全零\n",
    "W=np.mat(np.zeros((15,1)))\n",
    "learning_rate=0.03\n",
    "C=1\n",
    "\n",
    "#迭代次数\n",
    "num=100\n",
    "#阀值\n",
    "threshold=0\n",
    "\n",
    "loss_train=[]\n",
    "loss_validation=[]\n",
    "\n",
    "#目标函数\n",
    "def score(w,x):\n",
    "    return x*w\n",
    "\n",
    "#loss函数\n",
    "def loss(x,y,w,C):\n",
    "    temp=0\n",
    "    for i in range(len(y)):\n",
    "        temp+=max(1-y[i,0]*score(w,x[i]),0)\n",
    "    return 0.5*w.T.dot(w)+C*temp\n",
    "\n",
    "#求梯度\n",
    "def gradient(x,y,w):\n",
    "    temp=0\n",
    "    for i in range(len(x)):\n",
    "        temp+=w.T\n",
    "        if (1-y[i,0]*score(w,x_train[i]))>=0:\n",
    "            temp=temp-(y[i]*x[i])*C\n",
    "    return temp.T/x_train.shape[0]\n",
    "\n",
    "#梯度下降\n",
    "def gradient_descent(w):\n",
    "    temp_w=w-learning_rate*gradient(x_train,y_train,w)\n",
    "    return temp_w\n",
    "\n",
    "#优化\n",
    "def optimizer(w):\n",
    "    temp_w=w\n",
    "    for i in range(num):\n",
    "        temp_w=gradient_descent(temp_w)\n",
    "        loss_train.append(loss(x_train,y_train,temp_w,C)[0,0])\n",
    "        loss_validation.append(loss(x_test,y_test,temp_w,C)[0,0])\n",
    "    return  temp_w\n",
    "\n",
    "W=optimizer(W)\n",
    "# print(W)\n",
    "#训练集命中率\n",
    "train_hit=0\n",
    "for i in range(len(x_train)):\n",
    "    if (score(W,x_train[i]) >= threshold and y_train[i] == 1) or (score(W,x_train[i]) < threshold and y_train[i] == -1):\n",
    "        train_hit += 1\n",
    "\n",
    "#验证集命中率\n",
    "test_hit=0\n",
    "for i in range(len(x_test)):\n",
    "    if (score(W,x_test[i]) >= threshold and y_test[i] == 1) or (score(W,x_test[i]) < threshold and y_test[i] == -1):\n",
    "        test_hit += 1\n",
    "        \n",
    "print(train_hit/len(x_train))\n",
    "print(test_hit/len(x_test))\n",
    "\n",
    "n = np.arange(num)\n",
    "plt.plot(n,loss_train,label='loss_train')\n",
    "plt.plot(n,loss_validation,label='loss_validation')\n",
    "plt.legend(loc='upper right')\n",
    "plt.xlabel('time')\n",
    "plt.ylabel('loss')\n",
    "plt.title('Linear Classification')"
   ]
  },
  {
   "cell_type": "code",
   "execution_count": null,
   "metadata": {
    "collapsed": true
   },
   "outputs": [],
   "source": []
  }
 ],
 "metadata": {
  "anaconda-cloud": {},
  "kernelspec": {
   "display_name": "Python [default]",
   "language": "python",
   "name": "python3"
  },
  "language_info": {
   "codemirror_mode": {
    "name": "ipython",
    "version": 3
   },
   "file_extension": ".py",
   "mimetype": "text/x-python",
   "name": "python",
   "nbconvert_exporter": "python",
   "pygments_lexer": "ipython3",
   "version": "3.5.2"
  }
 },
 "nbformat": 4,
 "nbformat_minor": 1
}
